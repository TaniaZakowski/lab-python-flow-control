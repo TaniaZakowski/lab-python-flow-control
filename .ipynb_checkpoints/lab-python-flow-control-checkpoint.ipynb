{
 "cells": [
  {
   "cell_type": "markdown",
   "id": "d3bfc191-8885-42ee-b0a0-bbab867c6f9f",
   "metadata": {
    "tags": []
   },
   "source": [
    "# Lab | Flow Control"
   ]
  },
  {
   "cell_type": "markdown",
   "id": "3851fcd1-cf98-4653-9c89-e003b7ec9400",
   "metadata": {},
   "source": [
    "## Exercise: Managing Customer Orders Optimized\n",
    "\n",
    "In the last lab, you were starting an online store that sells various products. To ensure smooth operations, you developed a program that manages customer orders and inventory.\n",
    "\n",
    "You did so without using flow control. Let's go a step further and improve this code.\n",
    "\n",
    "Follow the steps below to complete the exercise:\n",
    "\n",
    "1. Look at your code from the lab data structures, and improve repeated code with loops.\n",
    "\n",
    "2. Instead of asking the user to input the name of three products that a customer wants to order, do the following:\n",
    "    \n",
    "    a. Prompt the user to enter the name of a product that a customer wants to order.\n",
    "    \n",
    "    b. Add the product name to the \"customer_orders\" set.\n",
    "    \n",
    "    c. Ask the user if they want to add another product (yes/no).\n",
    "    \n",
    "    d. Continue the loop until the user does not want to add another product.\n",
    "\n",
    "3. Instead of updating the inventory by subtracting 1 from the quantity of each product, only do it for  the products that were ordered (those in \"customer_orders\")."
   ]
  },
  {
   "cell_type": "code",
   "execution_count": 1,
   "id": "b91e8794-efd3-4b7c-8f49-cfd9c4ad3aa3",
   "metadata": {},
   "outputs": [
    {
     "name": "stdout",
     "output_type": "stream",
     "text": [
      "how many t-shirt are available:\n"
     ]
    },
    {
     "name": "stdin",
     "output_type": "stream",
     "text": [
      "None 9\n"
     ]
    },
    {
     "name": "stdout",
     "output_type": "stream",
     "text": [
      "how many mug are available:\n"
     ]
    },
    {
     "name": "stdin",
     "output_type": "stream",
     "text": [
      "None 9\n"
     ]
    },
    {
     "name": "stdout",
     "output_type": "stream",
     "text": [
      "how many hat are available:\n"
     ]
    },
    {
     "name": "stdin",
     "output_type": "stream",
     "text": [
      "None 9\n"
     ]
    },
    {
     "name": "stdout",
     "output_type": "stream",
     "text": [
      "how many book are available:\n"
     ]
    },
    {
     "name": "stdin",
     "output_type": "stream",
     "text": [
      "None 9\n"
     ]
    },
    {
     "name": "stdout",
     "output_type": "stream",
     "text": [
      "how many keychain are available:\n"
     ]
    },
    {
     "name": "stdin",
     "output_type": "stream",
     "text": [
      "None 9\n"
     ]
    }
   ],
   "source": [
    "products=[\"t-shirt\", \"mug\", \"hat\", \"book\", \"keychain\"]\n",
    "inventory={}\n",
    "for product in products:\n",
    "    inventory[product] = int(input(print(\"how many \"+product+\" are available:\")))\n"
   ]
  },
  {
   "cell_type": "code",
   "execution_count": 11,
   "id": "ee52fc0e-2c43-476e-aa5f-be10a39c2d25",
   "metadata": {},
   "outputs": [
    {
     "name": "stdout",
     "output_type": "stream",
     "text": [
      "Please choose products from: ['t-shirt', 'mug', 'hat', 'book', 'keychain']\n"
     ]
    }
   ],
   "source": [
    "customer_orders=set()\n",
    "print(\"Please choose products from:\", products)"
   ]
  },
  {
   "cell_type": "code",
   "execution_count": 12,
   "id": "eeb84824-714b-4b03-a006-0f3f8838076a",
   "metadata": {},
   "outputs": [
    {
     "name": "stdin",
     "output_type": "stream",
     "text": [
      "Do you want to add a product to your order? (yes/no):  yes\n",
      "Enter the product you want to add:  mug\n"
     ]
    },
    {
     "name": "stdout",
     "output_type": "stream",
     "text": [
      "Current list: {'mug'}\n"
     ]
    },
    {
     "name": "stdin",
     "output_type": "stream",
     "text": [
      "Do you want to add a product to your order? (yes/no):  yes\n",
      "Enter the product you want to add:  hat\n"
     ]
    },
    {
     "name": "stdout",
     "output_type": "stream",
     "text": [
      "Current list: {'hat', 'mug'}\n"
     ]
    },
    {
     "name": "stdin",
     "output_type": "stream",
     "text": [
      "Do you want to add a product to your order? (yes/no):  no\n"
     ]
    },
    {
     "name": "stdout",
     "output_type": "stream",
     "text": [
      "Your order: {'hat', 'mug'}\n"
     ]
    }
   ],
   "source": [
    "while True:\n",
    "    \n",
    "    add_more = input(\"Do you want to add a product to your order? (yes/no): \").strip().lower()\n",
    "    if add_more == \"yes\":\n",
    "        new_element = input(\"Enter the product you want to add: \").strip()\n",
    "        customer_orders.add(new_element)\n",
    "        print(f\"Current list: {customer_orders}\")\n",
    "    else:\n",
    "        break\n",
    "\n",
    "print(\"Your order:\", customer_orders)"
   ]
  },
  {
   "cell_type": "code",
   "execution_count": 13,
   "id": "604ede47-11d0-4a69-8199-d2f489b20962",
   "metadata": {},
   "outputs": [
    {
     "name": "stdout",
     "output_type": "stream",
     "text": [
      "{'t-shirt': 9, 'mug': 9, 'hat': 9, 'book': 9, 'keychain': 9}\n"
     ]
    }
   ],
   "source": [
    "print(inventory)"
   ]
  },
  {
   "cell_type": "code",
   "execution_count": 14,
   "id": "8acf9a0f-2344-4d43-a429-e2947a5151bd",
   "metadata": {},
   "outputs": [],
   "source": [
    "order=list(customer_orders)\n",
    "for product in products:\n",
    "    if product in order:\n",
    "        inventory[product]=inventory[product]-1"
   ]
  },
  {
   "cell_type": "code",
   "execution_count": 15,
   "id": "b4e2eb30-045e-4a5a-941c-4010f117d7dd",
   "metadata": {},
   "outputs": [
    {
     "name": "stdout",
     "output_type": "stream",
     "text": [
      "{'t-shirt': 9, 'mug': 8, 'hat': 8, 'book': 9, 'keychain': 9}\n"
     ]
    }
   ],
   "source": [
    "print(inventory)"
   ]
  },
  {
   "cell_type": "code",
   "execution_count": 16,
   "id": "178b1c19-212b-4fde-81ce-5cb7d6b831d1",
   "metadata": {},
   "outputs": [
    {
     "name": "stdout",
     "output_type": "stream",
     "text": [
      "updated inventory\n",
      "t-shirt  :  9\n",
      "mug  :  8\n",
      "hat  :  8\n",
      "book  :  9\n",
      "keychain  :  9\n"
     ]
    }
   ],
   "source": [
    "print(\"updated inventory\")\n",
    "for p in inventory:\n",
    "    print(p,\" : \",inventory[p])"
   ]
  },
  {
   "cell_type": "code",
   "execution_count": null,
   "id": "ec0a0257-3f02-47f6-bedd-913a8540274a",
   "metadata": {},
   "outputs": [],
   "source": []
  }
 ],
 "metadata": {
  "kernelspec": {
   "display_name": "Python 3 (ipykernel)",
   "language": "python",
   "name": "python3"
  },
  "language_info": {
   "codemirror_mode": {
    "name": "ipython",
    "version": 3
   },
   "file_extension": ".py",
   "mimetype": "text/x-python",
   "name": "python",
   "nbconvert_exporter": "python",
   "pygments_lexer": "ipython3",
   "version": "3.11.7"
  }
 },
 "nbformat": 4,
 "nbformat_minor": 5
}
